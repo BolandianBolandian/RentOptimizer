{
 "cells": [
  {
   "cell_type": "code",
   "execution_count": null,
   "id": "aa0864a7-9011-4ba6-999e-650eb8511122",
   "metadata": {},
   "outputs": [],
   "source": [
    "fully_mortgage=int(input('(تومان)رهن کامل خونه ای که قصد اجاره داری چقدره؟\\n'))\n",
    "expectedـinflation=int(input('نرخ تورمی که انتظار داری در ایران، توی یک سال آینده داشته باشیم چند درصده؟\\n'))\n",
    "expected_gold_growth=int(input('به نظرت طلا یا دلار در یک سال آینده، چند درصد میتونه رشد داشته باشه؟\\n'))\n",
    "investment=int(input('(تومان)در بهترین حالت، بیشترین اجاره خانه ای که توان پرداختش را داری چقدره؟\\n'))\n",
    "\n",
    "for i in range((fully_mortgage//50000000)+1):\n",
    "    mortgage=round(fully_mortgage-(i*50000000))\n",
    "    monthly_rent=round((fully_mortgage-mortgage)*0.03)\n",
    "    if monthly_rent<=investment:\n",
    "        init=investment-monthly_rent\n",
    "        intrest_rate=0.025\n",
    "        n=12\n",
    "        Total=init*(1+intrest_rate)\n",
    "        for i in range(n-1):\n",
    "            Total=round((Total+init)*(1+intrest_rate))\n",
    "        investment_profit=round((fully_mortgage-mortgage)*(expected_gold_growth/100))+Total\n",
    "        cost=round((monthly_rent*12)+(mortgage-(mortgage/(1+(expectedـinflation/100)))))\n",
    "        Total=investment_profit-cost\n",
    "    else:\n",
    "        break\n",
    "    print(f'\\n\\n\\n<< Mortgage = {mortgage:,} >>\\n<< Rent = {monthly_rent:,} >>')\n",
    "    print(f'\\nprofit:{investment_profit:,}')\n",
    "    print(f'cost:{cost:,}')\n",
    "    print(f'Total:{Total:,}')\n",
    "    print('\\n---------------------------------------------------\\n')"
   ]
  }
 ],
 "metadata": {
  "kernelspec": {
   "display_name": "Python 3 (ipykernel)",
   "language": "python",
   "name": "python3"
  },
  "language_info": {
   "codemirror_mode": {
    "name": "ipython",
    "version": 3
   },
   "file_extension": ".py",
   "mimetype": "text/x-python",
   "name": "python",
   "nbconvert_exporter": "python",
   "pygments_lexer": "ipython3",
   "version": "3.10.12"
  }
 },
 "nbformat": 4,
 "nbformat_minor": 5
}
